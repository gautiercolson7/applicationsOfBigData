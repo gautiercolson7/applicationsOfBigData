{
 "cells": [
  {
   "cell_type": "code",
   "execution_count": null,
   "id": "fd4f6089",
   "metadata": {},
   "outputs": [],
   "source": [
    "## IMPORT"
   ]
  },
  {
   "cell_type": "code",
   "execution_count": 1,
   "id": "5f0f55d5",
   "metadata": {},
   "outputs": [],
   "source": [
    "import numpy as np\n",
    "import pandas as pd\n",
    "import matplotlib.pyplot as plt\n",
    "from sklearn import decomposition\n",
    "from sklearn import preprocessing\n",
    "from sklearn.compose import ColumnTransformer\n",
    "from sklearn.pipeline import Pipeline\n",
    "from sklearn.impute import SimpleImputer\n",
    "from sklearn.preprocessing import StandardScaler, OneHotEncoder, RobustScaler\n",
    "from sklearn.linear_model import LogisticRegression\n",
    "from sklearn.model_selection import train_test_split\n",
    "from sklearn.feature_selection import VarianceThreshold"
   ]
  },
  {
   "cell_type": "code",
   "execution_count": null,
   "id": "86bb7870",
   "metadata": {},
   "outputs": [],
   "source": [
    "## DOWNLOAD DATA"
   ]
  },
  {
   "cell_type": "code",
   "execution_count": null,
   "id": "aae8ecdf",
   "metadata": {},
   "outputs": [],
   "source": [
    "csv_path=r\"C:\\Users\\gauti\\OneDrive - Efrei\\Documents\\S9\\applicationsOfBigData\\projet\\application_train.csv\"\n",
    "df = pd.read_csv(csv_path)\n",
    "df.shape"
   ]
  }
 ],
 "metadata": {
  "kernelspec": {
   "display_name": "Python 3",
   "language": "python",
   "name": "python3"
  },
  "language_info": {
   "codemirror_mode": {
    "name": "ipython",
    "version": 3
   },
   "file_extension": ".py",
   "mimetype": "text/x-python",
   "name": "python",
   "nbconvert_exporter": "python",
   "pygments_lexer": "ipython3",
   "version": "3.8.8"
  }
 },
 "nbformat": 4,
 "nbformat_minor": 5
}
